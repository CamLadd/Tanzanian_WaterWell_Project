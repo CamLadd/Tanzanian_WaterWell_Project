{
 "cells": [
  {
   "cell_type": "code",
   "execution_count": 1,
   "metadata": {},
   "outputs": [],
   "source": [
    "import pandas as pd"
   ]
  },
  {
   "cell_type": "code",
   "execution_count": 2,
   "metadata": {},
   "outputs": [],
   "source": [
    "status_groups = pd.read_csv('status_groups.csv')\r\n",
    "comp = pd.read_csv('comprehensive.csv')\r\n"
   ]
  },
  {
   "cell_type": "code",
   "execution_count": 3,
   "metadata": {},
   "outputs": [
    {
     "data": {
      "text/html": "<div>\n<style scoped>\n    .dataframe tbody tr th:only-of-type {\n        vertical-align: middle;\n    }\n\n    .dataframe tbody tr th {\n        vertical-align: top;\n    }\n\n    .dataframe thead th {\n        text-align: right;\n    }\n</style>\n<table border=\"1\" class=\"dataframe\">\n  <thead>\n    <tr style=\"text-align: right;\">\n      <th></th>\n      <th>id</th>\n      <th>amount_tsh</th>\n      <th>date_recorded</th>\n      <th>funder</th>\n      <th>gps_height</th>\n      <th>installer</th>\n      <th>longitude</th>\n      <th>latitude</th>\n      <th>wpt_name</th>\n      <th>num_private</th>\n      <th>...</th>\n      <th>payment_type</th>\n      <th>water_quality</th>\n      <th>quality_group</th>\n      <th>quantity</th>\n      <th>quantity_group</th>\n      <th>source</th>\n      <th>source_type</th>\n      <th>source_class</th>\n      <th>waterpoint_type</th>\n      <th>waterpoint_type_group</th>\n    </tr>\n  </thead>\n  <tbody>\n    <tr>\n      <th>0</th>\n      <td>50785</td>\n      <td>0.0</td>\n      <td>2013-02-04</td>\n      <td>Dmdd</td>\n      <td>1996</td>\n      <td>DMDD</td>\n      <td>35.290799</td>\n      <td>-4.059696</td>\n      <td>Dinamu Secondary School</td>\n      <td>0</td>\n      <td>...</td>\n      <td>never pay</td>\n      <td>soft</td>\n      <td>good</td>\n      <td>seasonal</td>\n      <td>seasonal</td>\n      <td>rainwater harvesting</td>\n      <td>rainwater harvesting</td>\n      <td>surface</td>\n      <td>other</td>\n      <td>other</td>\n    </tr>\n    <tr>\n      <th>1</th>\n      <td>51630</td>\n      <td>0.0</td>\n      <td>2013-02-04</td>\n      <td>Government Of Tanzania</td>\n      <td>1569</td>\n      <td>DWE</td>\n      <td>36.656709</td>\n      <td>-3.309214</td>\n      <td>Kimnyak</td>\n      <td>0</td>\n      <td>...</td>\n      <td>never pay</td>\n      <td>soft</td>\n      <td>good</td>\n      <td>insufficient</td>\n      <td>insufficient</td>\n      <td>spring</td>\n      <td>spring</td>\n      <td>groundwater</td>\n      <td>communal standpipe</td>\n      <td>communal standpipe</td>\n    </tr>\n    <tr>\n      <th>2</th>\n      <td>17168</td>\n      <td>0.0</td>\n      <td>2013-02-01</td>\n      <td>NaN</td>\n      <td>1567</td>\n      <td>NaN</td>\n      <td>34.767863</td>\n      <td>-5.004344</td>\n      <td>Puma Secondary</td>\n      <td>0</td>\n      <td>...</td>\n      <td>never pay</td>\n      <td>soft</td>\n      <td>good</td>\n      <td>insufficient</td>\n      <td>insufficient</td>\n      <td>rainwater harvesting</td>\n      <td>rainwater harvesting</td>\n      <td>surface</td>\n      <td>other</td>\n      <td>other</td>\n    </tr>\n    <tr>\n      <th>3</th>\n      <td>45559</td>\n      <td>0.0</td>\n      <td>2013-01-22</td>\n      <td>Finn Water</td>\n      <td>267</td>\n      <td>FINN WATER</td>\n      <td>38.058046</td>\n      <td>-9.418672</td>\n      <td>Kwa Mzee Pange</td>\n      <td>0</td>\n      <td>...</td>\n      <td>unknown</td>\n      <td>soft</td>\n      <td>good</td>\n      <td>dry</td>\n      <td>dry</td>\n      <td>shallow well</td>\n      <td>shallow well</td>\n      <td>groundwater</td>\n      <td>other</td>\n      <td>other</td>\n    </tr>\n    <tr>\n      <th>4</th>\n      <td>49871</td>\n      <td>500.0</td>\n      <td>2013-03-27</td>\n      <td>Bruder</td>\n      <td>1260</td>\n      <td>BRUDER</td>\n      <td>35.006123</td>\n      <td>-10.950412</td>\n      <td>Kwa Mzee Turuka</td>\n      <td>0</td>\n      <td>...</td>\n      <td>monthly</td>\n      <td>soft</td>\n      <td>good</td>\n      <td>enough</td>\n      <td>enough</td>\n      <td>spring</td>\n      <td>spring</td>\n      <td>groundwater</td>\n      <td>communal standpipe</td>\n      <td>communal standpipe</td>\n    </tr>\n  </tbody>\n</table>\n<p>5 rows × 40 columns</p>\n</div>",
      "text/plain": "      id  amount_tsh date_recorded                  funder  gps_height  \\\n0  50785         0.0    2013-02-04                    Dmdd        1996   \n1  51630         0.0    2013-02-04  Government Of Tanzania        1569   \n2  17168         0.0    2013-02-01                     NaN        1567   \n3  45559         0.0    2013-01-22              Finn Water         267   \n4  49871       500.0    2013-03-27                  Bruder        1260   \n\n    installer  longitude   latitude                 wpt_name  num_private  \\\n0        DMDD  35.290799  -4.059696  Dinamu Secondary School            0   \n1         DWE  36.656709  -3.309214                  Kimnyak            0   \n2         NaN  34.767863  -5.004344           Puma Secondary            0   \n3  FINN WATER  38.058046  -9.418672           Kwa Mzee Pange            0   \n4      BRUDER  35.006123 -10.950412          Kwa Mzee Turuka            0   \n\n   ... payment_type water_quality quality_group      quantity  quantity_group  \\\n0  ...    never pay          soft          good      seasonal        seasonal   \n1  ...    never pay          soft          good  insufficient    insufficient   \n2  ...    never pay          soft          good  insufficient    insufficient   \n3  ...      unknown          soft          good           dry             dry   \n4  ...      monthly          soft          good        enough          enough   \n\n                 source           source_type  source_class  \\\n0  rainwater harvesting  rainwater harvesting       surface   \n1                spring                spring   groundwater   \n2  rainwater harvesting  rainwater harvesting       surface   \n3          shallow well          shallow well   groundwater   \n4                spring                spring   groundwater   \n\n      waterpoint_type waterpoint_type_group  \n0               other                 other  \n1  communal standpipe    communal standpipe  \n2               other                 other  \n3               other                 other  \n4  communal standpipe    communal standpipe  \n\n[5 rows x 40 columns]"
     },
     "metadata": {},
     "output_type": "display_data"
    },
    {
     "name": "stdout",
     "output_type": "stream",
     "text": [
      "<class 'pandas.core.frame.DataFrame'>\n",
      "RangeIndex: 14850 entries, 0 to 14849\n",
      "Data columns (total 40 columns):\n",
      " #   Column                 Non-Null Count  Dtype  \n",
      "---  ------                 --------------  -----  \n",
      " 0   id                     14850 non-null  int64  \n",
      " 1   amount_tsh             14850 non-null  float64\n",
      " 2   date_recorded          14850 non-null  object \n",
      " 3   funder                 13981 non-null  object \n",
      " 4   gps_height             14850 non-null  int64  \n",
      " 5   installer              13973 non-null  object \n",
      " 6   longitude              14850 non-null  float64\n",
      " 7   latitude               14850 non-null  float64\n",
      " 8   wpt_name               14850 non-null  object \n",
      " 9   num_private            14850 non-null  int64  \n",
      " 10  basin                  14850 non-null  object \n",
      " 11  subvillage             14751 non-null  object \n",
      " 12  region                 14850 non-null  object \n",
      " 13  region_code            14850 non-null  int64  \n",
      " 14  district_code          14850 non-null  int64  \n",
      " 15  lga                    14850 non-null  object \n",
      " 16  ward                   14850 non-null  object \n",
      " 17  population             14850 non-null  int64  \n",
      " 18  public_meeting         14029 non-null  object \n",
      " 19  recorded_by            14850 non-null  object \n",
      " 20  scheme_management      13881 non-null  object \n",
      " 21  scheme_name            7758 non-null   object \n",
      " 22  permit                 14113 non-null  object \n",
      " 23  construction_year      14850 non-null  int64  \n",
      " 24  extraction_type        14850 non-null  object \n",
      " 25  extraction_type_group  14850 non-null  object \n",
      " 26  extraction_type_class  14850 non-null  object \n",
      " 27  management             14850 non-null  object \n",
      " 28  management_group       14850 non-null  object \n",
      " 29  payment                14850 non-null  object \n",
      " 30  payment_type           14850 non-null  object \n",
      " 31  water_quality          14850 non-null  object \n",
      " 32  quality_group          14850 non-null  object \n",
      " 33  quantity               14850 non-null  object \n",
      " 34  quantity_group         14850 non-null  object \n",
      " 35  source                 14850 non-null  object \n",
      " 36  source_type            14850 non-null  object \n",
      " 37  source_class           14850 non-null  object \n",
      " 38  waterpoint_type        14850 non-null  object \n",
      " 39  waterpoint_type_group  14850 non-null  object \n",
      "dtypes: float64(3), int64(7), object(30)\n",
      "memory usage: 4.5+ MB\n"
     ]
    },
    {
     "data": {
      "text/plain": "None"
     },
     "metadata": {},
     "output_type": "display_data"
    }
   ],
   "source": [
    "display(comp.head())\r\n",
    "display(comp.info())"
   ]
  },
  {
   "cell_type": "code",
   "execution_count": 4,
   "metadata": {},
   "outputs": [],
   "source": [
    "from datetime import datetime\r\n",
    "comp['date_recorded'] = pd.to_datetime(comp['date_recorded'])"
   ]
  },
  {
   "cell_type": "code",
   "execution_count": 29,
   "metadata": {},
   "outputs": [
    {
     "data": {
      "text/plain": "['funder',\n 'installer',\n 'wpt_name',\n 'basin',\n 'subvillage',\n 'region',\n 'lga',\n 'ward',\n 'public_meeting',\n 'recorded_by',\n 'scheme_management',\n 'scheme_name',\n 'permit',\n 'extraction_type',\n 'extraction_type_group',\n 'extraction_type_class',\n 'management',\n 'management_group',\n 'payment',\n 'payment_type',\n 'water_quality',\n 'quality_group',\n 'quantity',\n 'quantity_group',\n 'source',\n 'source_type',\n 'source_class',\n 'waterpoint_type',\n 'waterpoint_type_group']"
     },
     "execution_count": 29,
     "metadata": {},
     "output_type": "execute_result"
    }
   ],
   "source": [
    "object_cols = [col for col in comp.select_dtypes('object').columns]\r\n",
    "object_cols"
   ]
  },
  {
   "cell_type": "code",
   "execution_count": 27,
   "metadata": {},
   "outputs": [
    {
     "data": {
      "text/plain": "980"
     },
     "execution_count": 27,
     "metadata": {},
     "output_type": "execute_result"
    }
   ],
   "source": [
    "comp['funder'].nunique()"
   ]
  },
  {
   "cell_type": "code",
   "execution_count": 44,
   "metadata": {},
   "outputs": [
    {
     "data": {
      "text/plain": "['funder',\n 'wpt_name',\n 'num_private',\n 'basin',\n 'region',\n 'region_code',\n 'district_code',\n 'lga',\n 'ward',\n 'population',\n 'public_meeting',\n 'recorded_by',\n 'scheme_management',\n 'scheme_name',\n 'permit',\n 'construction_year',\n 'extraction_type',\n 'extraction_type_group',\n 'extraction_type_class',\n 'management',\n 'management_group']"
     },
     "execution_count": 44,
     "metadata": {},
     "output_type": "execute_result"
    }
   ],
   "source": [
    "number_unique = [int(comp[col].nunique()) for col in object_cols]\r\n",
    "index_cat = [i for i,x in enumerate(number_unique) if x < 20]\r\n",
    "cats = [comp.columns[x] for x in index_cat]\r\n",
    "cats"
   ]
  },
  {
   "cell_type": "code",
   "execution_count": null,
   "metadata": {},
   "outputs": [],
   "source": []
  }
 ],
 "metadata": {
  "interpreter": {
   "hash": "02a9839076075b91ad0ca4473d7f7ceb754ea3983ec7c01053cc622904b7a0ac"
  },
  "kernelspec": {
   "display_name": "Python 3.8.5 64-bit ('learn-env': conda)",
   "name": "python3"
  },
  "language_info": {
   "codemirror_mode": {
    "name": "ipython",
    "version": 3
   },
   "file_extension": ".py",
   "mimetype": "text/x-python",
   "name": "python",
   "nbconvert_exporter": "python",
   "pygments_lexer": "ipython3",
   "version": "3.8.5"
  },
  "orig_nbformat": 2
 },
 "nbformat": 4,
 "nbformat_minor": 2
}