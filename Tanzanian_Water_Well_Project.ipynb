{
 "cells": [
  {
   "cell_type": "markdown",
   "metadata": {},
   "source": [
    "# Data Summary and Goal"
   ]
  },
  {
   "cell_type": "markdown",
   "metadata": {},
   "source": [
    "## Summary"
   ]
  },
  {
   "cell_type": "markdown",
   "metadata": {},
   "source": [
    "Tanzania, as a developing country, struggles with providing clean water to its population of over 57,000,000. There are many waterpoints already established in the country, but some are in need of repair while others have failed altogether."
   ]
  },
  {
   "cell_type": "markdown",
   "metadata": {},
   "source": [
    "## Goal"
   ]
  },
  {
   "cell_type": "markdown",
   "metadata": {},
   "source": [
    "Build a classifier to predict the condition of a water well, using information provided in the data. This information includes:\r\n",
    "- Date\r\n",
    "- Location\r\n",
    "- Source\r\n",
    "- Funder\r\n",
    "- And more!"
   ]
  },
  {
   "cell_type": "markdown",
   "metadata": {},
   "source": [
    "This data is from the DrivenData.org website. It is part of the \"Pump It Up: Data Mining the Water Table\" dfetition. DrivenData decided to split the data up into two sets, the \"Training Set\" and the \"Test Set\". \r\n",
    "\r\n",
    "It is implied by the names that we are to use the training set for creating our models, and the test set to test them. For this project, we considered merging the two dataframes in order to have more data to work with, however there are 59,400 entries in the training set and therefore more than enough to make good predicitons. \r\n",
    "\r\n",
    "If our models are subpar, we may merge the tables to aquire more data points to potentially improve model efficacy."
   ]
  },
  {
   "cell_type": "markdown",
   "metadata": {},
   "source": [
    "# Data Cleaning"
   ]
  },
  {
   "cell_type": "code",
   "execution_count": 6,
   "metadata": {},
   "outputs": [
    {
     "name": "stdout",
     "output_type": "stream",
     "text": [
      "Shape of dataset: (59400, 40)\n"
     ]
    }
   ],
   "source": [
    "# Import Pandas\r\n",
    "import pandas as pd\r\n",
    "import numpy as np\r\n",
    "from warnings import simplefilter\r\n",
    "\r\n",
    "# ignore all future warnings\r\n",
    "simplefilter(action='ignore', category=FutureWarning)\r\n",
    "\r\n",
    "# Load data into  Pandas dataframes\r\n",
    "status_groups = pd.read_csv('status_groups.csv')\r\n",
    "testset = pd.read_csv('test_set.csv')\r\n",
    "df = pd.read_csv('training_set.csv')\r\n",
    "\r\n",
    "# Analyze shape of dataset\r\n",
    "print(f'Shape of dataset: {df.shape}')\r\n"
   ]
  },
  {
   "cell_type": "markdown",
   "metadata": {},
   "source": [
    "## Missing Values"
   ]
  },
  {
   "cell_type": "code",
   "execution_count": 7,
   "metadata": {},
   "outputs": [
    {
     "data": {
      "text/plain": "id                           0\namount_tsh                   0\ndate_recorded                0\nfunder                    3635\ngps_height                   0\ninstaller                 3655\nlongitude                    0\nlatitude                     0\nwpt_name                     0\nnum_private                  0\nbasin                        0\nsubvillage                 371\nregion                       0\nregion_code                  0\ndistrict_code                0\nlga                          0\nward                         0\npopulation                   0\npublic_meeting            3334\nrecorded_by                  0\nscheme_management         3877\nscheme_name              28166\npermit                    3056\nconstruction_year            0\nextraction_type              0\nextraction_type_group        0\nextraction_type_class        0\nmanagement                   0\nmanagement_group             0\npayment                      0\npayment_type                 0\nwater_quality                0\nquality_group                0\nquantity                     0\nquantity_group               0\nsource                       0\nsource_type                  0\nsource_class                 0\nwaterpoint_type              0\nwaterpoint_type_group        0\ndtype: int64"
     },
     "execution_count": 7,
     "metadata": {},
     "output_type": "execute_result"
    }
   ],
   "source": [
    "df.isna().sum()"
   ]
  },
  {
   "cell_type": "code",
   "execution_count": 8,
   "metadata": {},
   "outputs": [
    {
     "data": {
      "text/plain": "34       NaN\n43       NaN\n47       NaN\n65       NaN\n71       NaN\n        ... \n59357    NaN\n59366    NaN\n59370    NaN\n59376    NaN\n59397    NaN\nName: funder, Length: 3635, dtype: object"
     },
     "execution_count": 8,
     "metadata": {},
     "output_type": "execute_result"
    }
   ],
   "source": [
    "df['funder'][df['funder'].isna() == True]"
   ]
  },
  {
   "cell_type": "code",
   "execution_count": 9,
   "metadata": {},
   "outputs": [
    {
     "data": {
      "text/plain": "(59400, 40)"
     },
     "execution_count": 9,
     "metadata": {},
     "output_type": "execute_result"
    }
   ],
   "source": [
    "df.dropna(how='all')\r\n",
    "df.shape"
   ]
  },
  {
   "cell_type": "markdown",
   "metadata": {},
   "source": [
    "## Dates"
   ]
  },
  {
   "cell_type": "code",
   "execution_count": 10,
   "metadata": {},
   "outputs": [],
   "source": [
    "from datetime import datetime\r\n",
    "df['date_recorded'] = pd.to_datetime(df['date_recorded'])"
   ]
  },
  {
   "cell_type": "markdown",
   "metadata": {},
   "source": [
    "## Categories"
   ]
  },
  {
   "cell_type": "code",
   "execution_count": 11,
   "metadata": {},
   "outputs": [],
   "source": [
    "# We should wait until after dealing with missing values, duplicates, outliers, etc. \r\n",
    "# before splitting these up into our features and categories"
   ]
  },
  {
   "cell_type": "code",
   "execution_count": 12,
   "metadata": {},
   "outputs": [
    {
     "data": {
      "text/plain": "['funder',\n 'installer',\n 'wpt_name',\n 'basin',\n 'subvillage',\n 'region',\n 'lga',\n 'ward',\n 'public_meeting',\n 'recorded_by',\n 'scheme_management',\n 'scheme_name',\n 'permit',\n 'extraction_type',\n 'extraction_type_group',\n 'extraction_type_class',\n 'management',\n 'management_group',\n 'payment',\n 'payment_type',\n 'water_quality',\n 'quality_group',\n 'quantity',\n 'quantity_group',\n 'source',\n 'source_type',\n 'source_class',\n 'waterpoint_type',\n 'waterpoint_type_group']"
     },
     "execution_count": 12,
     "metadata": {},
     "output_type": "execute_result"
    }
   ],
   "source": [
    "object_cols = [col for col in df.select_dtypes('object').columns]\r\n",
    "object_cols"
   ]
  },
  {
   "cell_type": "code",
   "execution_count": 13,
   "metadata": {},
   "outputs": [
    {
     "data": {
      "text/html": "<div>\n<style scoped>\n    .dataframe tbody tr th:only-of-type {\n        vertical-align: middle;\n    }\n\n    .dataframe tbody tr th {\n        vertical-align: top;\n    }\n\n    .dataframe thead th {\n        text-align: right;\n    }\n</style>\n<table border=\"1\" class=\"dataframe\">\n  <thead>\n    <tr style=\"text-align: right;\">\n      <th></th>\n      <th>funder</th>\n      <th>wpt_name</th>\n      <th>num_private</th>\n      <th>basin</th>\n      <th>region</th>\n      <th>region_code</th>\n      <th>district_code</th>\n      <th>lga</th>\n      <th>ward</th>\n      <th>population</th>\n      <th>...</th>\n      <th>recorded_by</th>\n      <th>scheme_management</th>\n      <th>scheme_name</th>\n      <th>permit</th>\n      <th>construction_year</th>\n      <th>extraction_type</th>\n      <th>extraction_type_group</th>\n      <th>extraction_type_class</th>\n      <th>management</th>\n      <th>management_group</th>\n    </tr>\n  </thead>\n  <tbody>\n    <tr>\n      <th>0</th>\n      <td>Roman</td>\n      <td>none</td>\n      <td>0</td>\n      <td>Lake Nyasa</td>\n      <td>Iringa</td>\n      <td>11</td>\n      <td>5</td>\n      <td>Ludewa</td>\n      <td>Mundindi</td>\n      <td>109</td>\n      <td>...</td>\n      <td>GeoData Consultants Ltd</td>\n      <td>VWC</td>\n      <td>Roman</td>\n      <td>False</td>\n      <td>1999</td>\n      <td>gravity</td>\n      <td>gravity</td>\n      <td>gravity</td>\n      <td>vwc</td>\n      <td>user-group</td>\n    </tr>\n    <tr>\n      <th>1</th>\n      <td>Grumeti</td>\n      <td>Zahanati</td>\n      <td>0</td>\n      <td>Lake Victoria</td>\n      <td>Mara</td>\n      <td>20</td>\n      <td>2</td>\n      <td>Serengeti</td>\n      <td>Natta</td>\n      <td>280</td>\n      <td>...</td>\n      <td>GeoData Consultants Ltd</td>\n      <td>Other</td>\n      <td>NaN</td>\n      <td>True</td>\n      <td>2010</td>\n      <td>gravity</td>\n      <td>gravity</td>\n      <td>gravity</td>\n      <td>wug</td>\n      <td>user-group</td>\n    </tr>\n    <tr>\n      <th>2</th>\n      <td>Lottery Club</td>\n      <td>Kwa Mahundi</td>\n      <td>0</td>\n      <td>Pangani</td>\n      <td>Manyara</td>\n      <td>21</td>\n      <td>4</td>\n      <td>Simanjiro</td>\n      <td>Ngorika</td>\n      <td>250</td>\n      <td>...</td>\n      <td>GeoData Consultants Ltd</td>\n      <td>VWC</td>\n      <td>Nyumba ya mungu pipe scheme</td>\n      <td>True</td>\n      <td>2009</td>\n      <td>gravity</td>\n      <td>gravity</td>\n      <td>gravity</td>\n      <td>vwc</td>\n      <td>user-group</td>\n    </tr>\n    <tr>\n      <th>3</th>\n      <td>Unicef</td>\n      <td>Zahanati Ya Nanyumbu</td>\n      <td>0</td>\n      <td>Ruvuma / Southern Coast</td>\n      <td>Mtwara</td>\n      <td>90</td>\n      <td>63</td>\n      <td>Nanyumbu</td>\n      <td>Nanyumbu</td>\n      <td>58</td>\n      <td>...</td>\n      <td>GeoData Consultants Ltd</td>\n      <td>VWC</td>\n      <td>NaN</td>\n      <td>True</td>\n      <td>1986</td>\n      <td>submersible</td>\n      <td>submersible</td>\n      <td>submersible</td>\n      <td>vwc</td>\n      <td>user-group</td>\n    </tr>\n    <tr>\n      <th>4</th>\n      <td>Action In A</td>\n      <td>Shuleni</td>\n      <td>0</td>\n      <td>Lake Victoria</td>\n      <td>Kagera</td>\n      <td>18</td>\n      <td>1</td>\n      <td>Karagwe</td>\n      <td>Nyakasimbi</td>\n      <td>0</td>\n      <td>...</td>\n      <td>GeoData Consultants Ltd</td>\n      <td>NaN</td>\n      <td>NaN</td>\n      <td>True</td>\n      <td>0</td>\n      <td>gravity</td>\n      <td>gravity</td>\n      <td>gravity</td>\n      <td>other</td>\n      <td>other</td>\n    </tr>\n  </tbody>\n</table>\n<p>5 rows × 21 columns</p>\n</div>",
      "text/plain": "         funder              wpt_name  num_private                    basin  \\\n0         Roman                  none            0               Lake Nyasa   \n1       Grumeti              Zahanati            0            Lake Victoria   \n2  Lottery Club           Kwa Mahundi            0                  Pangani   \n3        Unicef  Zahanati Ya Nanyumbu            0  Ruvuma / Southern Coast   \n4   Action In A               Shuleni            0            Lake Victoria   \n\n    region  region_code  district_code        lga        ward  population  \\\n0   Iringa           11              5     Ludewa    Mundindi         109   \n1     Mara           20              2  Serengeti       Natta         280   \n2  Manyara           21              4  Simanjiro     Ngorika         250   \n3   Mtwara           90             63   Nanyumbu    Nanyumbu          58   \n4   Kagera           18              1    Karagwe  Nyakasimbi           0   \n\n   ...              recorded_by scheme_management  \\\n0  ...  GeoData Consultants Ltd               VWC   \n1  ...  GeoData Consultants Ltd             Other   \n2  ...  GeoData Consultants Ltd               VWC   \n3  ...  GeoData Consultants Ltd               VWC   \n4  ...  GeoData Consultants Ltd               NaN   \n\n                   scheme_name permit construction_year  extraction_type  \\\n0                        Roman  False              1999          gravity   \n1                          NaN   True              2010          gravity   \n2  Nyumba ya mungu pipe scheme   True              2009          gravity   \n3                          NaN   True              1986      submersible   \n4                          NaN   True                 0          gravity   \n\n  extraction_type_group extraction_type_class management management_group  \n0               gravity               gravity        vwc       user-group  \n1               gravity               gravity        wug       user-group  \n2               gravity               gravity        vwc       user-group  \n3           submersible           submersible        vwc       user-group  \n4               gravity               gravity      other            other  \n\n[5 rows x 21 columns]"
     },
     "execution_count": 13,
     "metadata": {},
     "output_type": "execute_result"
    }
   ],
   "source": [
    "number_unique = [int(df[col].nunique()) for col in object_cols]\r\n",
    "index_cat = [i for i,x in enumerate(number_unique) if x < 20]\r\n",
    "cats = [df.columns[x] for x in index_cat]\r\n",
    "cat_df = df[cats]\r\n",
    "cat_df.head()"
   ]
  },
  {
   "cell_type": "code",
   "execution_count": 50,
   "metadata": {},
   "outputs": [
    {
     "data": {
      "text/plain": "1897"
     },
     "execution_count": 50,
     "metadata": {},
     "output_type": "execute_result"
    }
   ],
   "source": [
    "df['funder'].nunique()"
   ]
  },
  {
   "cell_type": "code",
   "execution_count": 48,
   "metadata": {},
   "outputs": [
    {
     "data": {
      "text/plain": "974"
     },
     "execution_count": 48,
     "metadata": {},
     "output_type": "execute_result"
    }
   ],
   "source": [
    "one = []\r\n",
    "for x in df.funder.value_counts():\r\n",
    "   if x == 1:\r\n",
    "      one.append(x) \r\n",
    "len(one)\r\n",
    "# It might be worth dropping funder categories that only have 1 occurence"
   ]
  },
  {
   "cell_type": "code",
   "execution_count": null,
   "metadata": {},
   "outputs": [],
   "source": []
  }
 ],
 "metadata": {
  "interpreter": {
   "hash": "02a9839076075b91ad0ca4473d7f7ceb754ea3983ec7c01053cc622904b7a0ac"
  },
  "kernelspec": {
   "display_name": "Python 3.8.5 64-bit ('learn-env': conda)",
   "name": "python3"
  },
  "language_info": {
   "codemirror_mode": {
    "name": "ipython",
    "version": 3
   },
   "file_extension": ".py",
   "mimetype": "text/x-python",
   "name": "python",
   "nbconvert_exporter": "python",
   "pygments_lexer": "ipython3",
   "version": "3.8.5"
  },
  "orig_nbformat": 2
 },
 "nbformat": 4,
 "nbformat_minor": 2
}