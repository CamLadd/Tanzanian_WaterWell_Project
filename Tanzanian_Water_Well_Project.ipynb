{
 "cells": [
  {
   "cell_type": "markdown",
   "metadata": {},
   "source": [
    "# Data Summary and Goal"
   ]
  },
  {
   "cell_type": "markdown",
   "metadata": {},
   "source": [
    "## Summary"
   ]
  },
  {
   "cell_type": "markdown",
   "metadata": {},
   "source": [
    "Tanzania, as a developing country, struggles with providing clean water to its population of over 57,000,000. There are many waterpoints already established in the country, but some are in need of repair while others have failed altogether."
   ]
  },
  {
   "cell_type": "markdown",
   "metadata": {},
   "source": [
    "## Goal"
   ]
  },
  {
   "cell_type": "markdown",
   "metadata": {},
   "source": [
    "Build a classifier to predict the condition of a water well, using information provided in the data. This information includes:\r\n",
    "- Date\r\n",
    "- Location\r\n",
    "- Source\r\n",
    "- Funder\r\n",
    "- And more!"
   ]
  },
  {
   "cell_type": "markdown",
   "metadata": {},
   "source": [
    "This data is from the DrivenData.org website. It is part of the \"Pump It Up: Data Mining the Water Table\" trainsetetition. DrivenData decided to split the data up into two sets, the \"Training Set\" and the \"Test Set\". \r\n",
    "\r\n",
    "It is implied by the names that we are to use the training set for creating our models, and the test set to test them. For this project, we considered merging the two dataframes in order to have more data to work with, however there are 59,400 entries in the training set and therefore more than enough to make good predicitons. \r\n",
    "\r\n",
    "If our models are subpar, we may merge the tables to aquire more data points to potentially improve model efficacy."
   ]
  },
  {
   "cell_type": "markdown",
   "metadata": {},
   "source": [
    "# Data Cleaning"
   ]
  },
  {
   "cell_type": "code",
   "execution_count": 8,
   "metadata": {},
   "outputs": [
    {
     "name": "stdout",
     "output_type": "stream",
     "text": [
      "Training Set Shape: (59400, 40)\n",
      "Testing Set Shape: (14850, 40)\n"
     ]
    }
   ],
   "source": [
    "# Import Pandas\r\n",
    "import pandas as pd\r\n",
    "from warnings import simplefilter\r\n",
    "\r\n",
    "# ignore all future warnings\r\n",
    "simplefilter(action='ignore', category=FutureWarning)\r\n",
    "\r\n",
    "# Load data into  Pandas dataframes\r\n",
    "status_groups = pd.read_csv('status_groups.csv')\r\n",
    "testset = pd.read_csv('test_set.csv')\r\n",
    "trainset = pd.read_csv('training_set.csv')\r\n",
    "\r\n",
    "# Analyze shape of datasets\r\n",
    "print(f'Training Set Shape: {trainset.shape}') # Will use this set for our analysis\r\n",
    "print(f'Testing Set Shape: {testset.shape}')\r\n"
   ]
  },
  {
   "cell_type": "markdown",
   "metadata": {},
   "source": [
    "## Missing Values"
   ]
  },
  {
   "cell_type": "code",
   "execution_count": 10,
   "metadata": {},
   "outputs": [
    {
     "data": {
      "text/plain": "id                           0\namount_tsh                   0\ndate_recorded                0\nfunder                    3635\ngps_height                   0\ninstaller                 3655\nlongitude                    0\nlatitude                     0\nwpt_name                     0\nnum_private                  0\nbasin                        0\nsubvillage                 371\nregion                       0\nregion_code                  0\ndistrict_code                0\nlga                          0\nward                         0\npopulation                   0\npublic_meeting            3334\nrecorded_by                  0\nscheme_management         3877\nscheme_name              28166\npermit                    3056\nconstruction_year            0\nextraction_type              0\nextraction_type_group        0\nextraction_type_class        0\nmanagement                   0\nmanagement_group             0\npayment                      0\npayment_type                 0\nwater_quality                0\nquality_group                0\nquantity                     0\nquantity_group               0\nsource                       0\nsource_type                  0\nsource_class                 0\nwaterpoint_type              0\nwaterpoint_type_group        0\ndtype: int64"
     },
     "execution_count": 10,
     "metadata": {},
     "output_type": "execute_result"
    }
   ],
   "source": [
    "trainset.isna().sum()"
   ]
  },
  {
   "cell_type": "markdown",
   "metadata": {},
   "source": [
    "## Dates"
   ]
  },
  {
   "cell_type": "code",
   "execution_count": 4,
   "metadata": {},
   "outputs": [],
   "source": [
    "from datetime import datetime\r\n",
    "trainset['date_recorded'] = pd.to_datetime(trainset['date_recorded'])"
   ]
  },
  {
   "cell_type": "markdown",
   "metadata": {},
   "source": [
    "## Categories"
   ]
  },
  {
   "cell_type": "code",
   "execution_count": 9,
   "metadata": {},
   "outputs": [],
   "source": [
    "# We should wait until after dealing with missing values, duplicates, outliers, etc. \r\n",
    "# before splitting these up into our features and categories"
   ]
  },
  {
   "cell_type": "code",
   "execution_count": 5,
   "metadata": {},
   "outputs": [
    {
     "data": {
      "text/plain": "['funder',\n 'installer',\n 'wpt_name',\n 'basin',\n 'subvillage',\n 'region',\n 'lga',\n 'ward',\n 'public_meeting',\n 'recorded_by',\n 'scheme_management',\n 'scheme_name',\n 'permit',\n 'extraction_type',\n 'extraction_type_group',\n 'extraction_type_class',\n 'management',\n 'management_group',\n 'payment',\n 'payment_type',\n 'water_quality',\n 'quality_group',\n 'quantity',\n 'quantity_group',\n 'source',\n 'source_type',\n 'source_class',\n 'waterpoint_type',\n 'waterpoint_type_group']"
     },
     "execution_count": 5,
     "metadata": {},
     "output_type": "execute_result"
    }
   ],
   "source": [
    "object_cols = [col for col in trainset.select_dtypes('object').columns]\r\n",
    "object_cols"
   ]
  },
  {
   "cell_type": "code",
   "execution_count": 6,
   "metadata": {},
   "outputs": [
    {
     "data": {
      "text/plain": "980"
     },
     "execution_count": 6,
     "metadata": {},
     "output_type": "execute_result"
    }
   ],
   "source": [
    "trainset['funder'].nunique()"
   ]
  },
  {
   "cell_type": "code",
   "execution_count": 7,
   "metadata": {},
   "outputs": [
    {
     "data": {
      "text/html": "<div>\n<style scoped>\n    .dataframe tbody tr th:only-of-type {\n        vertical-align: middle;\n    }\n\n    .dataframe tbody tr th {\n        vertical-align: top;\n    }\n\n    .dataframe thead th {\n        text-align: right;\n    }\n</style>\n<table border=\"1\" class=\"dataframe\">\n  <thead>\n    <tr style=\"text-align: right;\">\n      <th></th>\n      <th>funder</th>\n      <th>wpt_name</th>\n      <th>num_private</th>\n      <th>basin</th>\n      <th>region</th>\n      <th>region_code</th>\n      <th>district_code</th>\n      <th>lga</th>\n      <th>ward</th>\n      <th>population</th>\n      <th>...</th>\n      <th>recorded_by</th>\n      <th>scheme_management</th>\n      <th>scheme_name</th>\n      <th>permit</th>\n      <th>construction_year</th>\n      <th>extraction_type</th>\n      <th>extraction_type_group</th>\n      <th>extraction_type_class</th>\n      <th>management</th>\n      <th>management_group</th>\n    </tr>\n  </thead>\n  <tbody>\n    <tr>\n      <th>0</th>\n      <td>Dmdd</td>\n      <td>Dinamu Secondary School</td>\n      <td>0</td>\n      <td>Internal</td>\n      <td>Manyara</td>\n      <td>21</td>\n      <td>3</td>\n      <td>Mbulu</td>\n      <td>Bashay</td>\n      <td>321</td>\n      <td>...</td>\n      <td>GeoData Consultants Ltd</td>\n      <td>Parastatal</td>\n      <td>NaN</td>\n      <td>True</td>\n      <td>2012</td>\n      <td>other</td>\n      <td>other</td>\n      <td>other</td>\n      <td>parastatal</td>\n      <td>parastatal</td>\n    </tr>\n    <tr>\n      <th>1</th>\n      <td>Government Of Tanzania</td>\n      <td>Kimnyak</td>\n      <td>0</td>\n      <td>Pangani</td>\n      <td>Arusha</td>\n      <td>2</td>\n      <td>2</td>\n      <td>Arusha Rural</td>\n      <td>Kimnyaki</td>\n      <td>300</td>\n      <td>...</td>\n      <td>GeoData Consultants Ltd</td>\n      <td>VWC</td>\n      <td>TPRI pipe line</td>\n      <td>True</td>\n      <td>2000</td>\n      <td>gravity</td>\n      <td>gravity</td>\n      <td>gravity</td>\n      <td>vwc</td>\n      <td>user-group</td>\n    </tr>\n    <tr>\n      <th>2</th>\n      <td>NaN</td>\n      <td>Puma Secondary</td>\n      <td>0</td>\n      <td>Internal</td>\n      <td>Singida</td>\n      <td>13</td>\n      <td>2</td>\n      <td>Singida Rural</td>\n      <td>Puma</td>\n      <td>500</td>\n      <td>...</td>\n      <td>GeoData Consultants Ltd</td>\n      <td>VWC</td>\n      <td>P</td>\n      <td>NaN</td>\n      <td>2010</td>\n      <td>other</td>\n      <td>other</td>\n      <td>other</td>\n      <td>vwc</td>\n      <td>user-group</td>\n    </tr>\n    <tr>\n      <th>3</th>\n      <td>Finn Water</td>\n      <td>Kwa Mzee Pange</td>\n      <td>0</td>\n      <td>Ruvuma / Southern Coast</td>\n      <td>Lindi</td>\n      <td>80</td>\n      <td>43</td>\n      <td>Liwale</td>\n      <td>Mkutano</td>\n      <td>250</td>\n      <td>...</td>\n      <td>GeoData Consultants Ltd</td>\n      <td>VWC</td>\n      <td>NaN</td>\n      <td>True</td>\n      <td>1987</td>\n      <td>other</td>\n      <td>other</td>\n      <td>other</td>\n      <td>vwc</td>\n      <td>user-group</td>\n    </tr>\n    <tr>\n      <th>4</th>\n      <td>Bruder</td>\n      <td>Kwa Mzee Turuka</td>\n      <td>0</td>\n      <td>Ruvuma / Southern Coast</td>\n      <td>Ruvuma</td>\n      <td>10</td>\n      <td>3</td>\n      <td>Mbinga</td>\n      <td>Mbinga Urban</td>\n      <td>60</td>\n      <td>...</td>\n      <td>GeoData Consultants Ltd</td>\n      <td>Water Board</td>\n      <td>BRUDER</td>\n      <td>True</td>\n      <td>2000</td>\n      <td>gravity</td>\n      <td>gravity</td>\n      <td>gravity</td>\n      <td>water board</td>\n      <td>user-group</td>\n    </tr>\n  </tbody>\n</table>\n<p>5 rows × 21 columns</p>\n</div>",
      "text/plain": "                   funder                 wpt_name  num_private  \\\n0                    Dmdd  Dinamu Secondary School            0   \n1  Government Of Tanzania                  Kimnyak            0   \n2                     NaN           Puma Secondary            0   \n3              Finn Water           Kwa Mzee Pange            0   \n4                  Bruder          Kwa Mzee Turuka            0   \n\n                     basin   region  region_code  district_code  \\\n0                 Internal  Manyara           21              3   \n1                  Pangani   Arusha            2              2   \n2                 Internal  Singida           13              2   \n3  Ruvuma / Southern Coast    Lindi           80             43   \n4  Ruvuma / Southern Coast   Ruvuma           10              3   \n\n             lga          ward  population  ...              recorded_by  \\\n0          Mbulu        Bashay         321  ...  GeoData Consultants Ltd   \n1   Arusha Rural      Kimnyaki         300  ...  GeoData Consultants Ltd   \n2  Singida Rural          Puma         500  ...  GeoData Consultants Ltd   \n3         Liwale       Mkutano         250  ...  GeoData Consultants Ltd   \n4         Mbinga  Mbinga Urban          60  ...  GeoData Consultants Ltd   \n\n  scheme_management     scheme_name permit construction_year  extraction_type  \\\n0        Parastatal             NaN   True              2012            other   \n1               VWC  TPRI pipe line   True              2000          gravity   \n2               VWC               P    NaN              2010            other   \n3               VWC             NaN   True              1987            other   \n4       Water Board          BRUDER   True              2000          gravity   \n\n  extraction_type_group extraction_type_class   management management_group  \n0                 other                 other   parastatal       parastatal  \n1               gravity               gravity          vwc       user-group  \n2                 other                 other          vwc       user-group  \n3                 other                 other          vwc       user-group  \n4               gravity               gravity  water board       user-group  \n\n[5 rows x 21 columns]"
     },
     "execution_count": 7,
     "metadata": {},
     "output_type": "execute_result"
    }
   ],
   "source": [
    "number_unique = [int(trainset[col].nunique()) for col in object_cols]\r\n",
    "index_cat = [i for i,x in enumerate(number_unique) if x < 20]\r\n",
    "cats = [trainset.columns[x] for x in index_cat]\r\n",
    "cat_df = trainset[cats]\r\n",
    "cat_df.head()"
   ]
  }
 ],
 "metadata": {
  "interpreter": {
   "hash": "02a9839076075b91ad0ca4473d7f7ceb754ea3983ec7c01053cc622904b7a0ac"
  },
  "kernelspec": {
   "display_name": "Python 3.8.5 64-bit ('learn-env': conda)",
   "name": "python3"
  },
  "language_info": {
   "codemirror_mode": {
    "name": "ipython",
    "version": 3
   },
   "file_extension": ".py",
   "mimetype": "text/x-python",
   "name": "python",
   "nbconvert_exporter": "python",
   "pygments_lexer": "ipython3",
   "version": "3.8.5"
  },
  "orig_nbformat": 2
 },
 "nbformat": 4,
 "nbformat_minor": 2
}